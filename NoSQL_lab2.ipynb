{
 "cells": [
  {
   "cell_type": "code",
   "execution_count": 3,
   "id": "4f65e693-aa4d-471e-9cc0-bca6f14e897a",
   "metadata": {},
   "outputs": [
    {
     "data": {
      "text/html": [
       "<div>\n",
       "<style scoped>\n",
       "    .dataframe tbody tr th:only-of-type {\n",
       "        vertical-align: middle;\n",
       "    }\n",
       "\n",
       "    .dataframe tbody tr th {\n",
       "        vertical-align: top;\n",
       "    }\n",
       "\n",
       "    .dataframe thead th {\n",
       "        text-align: right;\n",
       "    }\n",
       "</style>\n",
       "<table border=\"1\" class=\"dataframe\">\n",
       "  <thead>\n",
       "    <tr style=\"text-align: right;\">\n",
       "      <th></th>\n",
       "      <th>ASIN</th>\n",
       "      <th>GROUP</th>\n",
       "      <th>FORMAT</th>\n",
       "    </tr>\n",
       "  </thead>\n",
       "  <tbody>\n",
       "    <tr>\n",
       "      <th>0</th>\n",
       "      <td>0307463745</td>\n",
       "      <td>book</td>\n",
       "      <td>hardcover</td>\n",
       "    </tr>\n",
       "    <tr>\n",
       "      <th>1</th>\n",
       "      <td>0061914177</td>\n",
       "      <td>book</td>\n",
       "      <td>hardcover</td>\n",
       "    </tr>\n",
       "    <tr>\n",
       "      <th>2</th>\n",
       "      <td>1606840606</td>\n",
       "      <td>book</td>\n",
       "      <td>hardcover</td>\n",
       "    </tr>\n",
       "    <tr>\n",
       "      <th>3</th>\n",
       "      <td>0979974623</td>\n",
       "      <td>book</td>\n",
       "      <td>hardcover</td>\n",
       "    </tr>\n",
       "    <tr>\n",
       "      <th>4</th>\n",
       "      <td>0375829652</td>\n",
       "      <td>book</td>\n",
       "      <td>hardcover</td>\n",
       "    </tr>\n",
       "  </tbody>\n",
       "</table>\n",
       "</div>"
      ],
      "text/plain": [
       "         ASIN GROUP     FORMAT\n",
       "0  0307463745  book  hardcover\n",
       "1  0061914177  book  hardcover\n",
       "2  1606840606  book  hardcover\n",
       "3  0979974623  book  hardcover\n",
       "4  0375829652  book  hardcover"
      ]
     },
     "execution_count": 3,
     "metadata": {},
     "output_type": "execute_result"
    }
   ],
   "source": [
    "#Подключение\n",
    "import pandas as pd\n",
    "import json\n",
    "from pymongo import MongoClient\n",
    "\n",
    "client = MongoClient('localhost',27017)\n",
    "\n",
    "db = client.test\n",
    "client['test']\n",
    "collection = db.test\n",
    "\n",
    "df = pd.read_csv(\"D:/amazon_com.csv\")\n",
    "df.head()"
   ]
  },
  {
   "cell_type": "code",
   "execution_count": 9,
   "id": "a8ae3673-9c41-49ae-81fc-f4d02eb363db",
   "metadata": {},
   "outputs": [
    {
     "name": "stderr",
     "output_type": "stream",
     "text": [
      "c:\\users\\chugu\\appdata\\local\\programs\\python\\python36\\lib\\site-packages\\ipykernel_launcher.py:16: DeprecationWarning: insert is deprecated. Use insert_one or insert_many instead.\n",
      "  app.launch_new_instance()\n"
     ]
    },
    {
     "data": {
      "text/plain": [
       "['_id', 'ASIN', 'GROUP', 'FORMAT']"
      ]
     },
     "execution_count": 9,
     "metadata": {},
     "output_type": "execute_result"
    }
   ],
   "source": [
    "#find_one\n",
    "import pandas as pd\n",
    "import json\n",
    "import pymongo\n",
    "from pymongo import MongoClient\n",
    "client = MongoClient('localhost',27017)\n",
    "\n",
    "db = client.test\n",
    "client['test']\n",
    "collection = db.test\n",
    "\n",
    "\n",
    "df = pd.read_csv(\"D:/amazon_com.csv\")\n",
    "df.head(15)\n",
    "record = json.loads(df.T.to_json()).values()\n",
    "collection.mydocument.insert(record)\n",
    "\n",
    "cursor = collection['mydocument'].find_one()\n",
    "dataframe = (list(cursor))\n",
    "dataframe"
   ]
  },
  {
   "cell_type": "code",
   "execution_count": 6,
   "id": "1fc0d4e8-f8b8-4d33-88a2-910e8ffa5457",
   "metadata": {},
   "outputs": [
    {
     "data": {
      "text/plain": [
       "[]"
      ]
     },
     "execution_count": 6,
     "metadata": {},
     "output_type": "execute_result"
    }
   ],
   "source": [
    "#поиск по критерию\n",
    "import pandas as pd\n",
    "import json\n",
    "from pymongo import MongoClient\n",
    "client = MongoClient('localhost',27017)\n",
    "\n",
    "db = client.test\n",
    "client['test']\n",
    "collection = db.test\n",
    "\n",
    "\n",
    "cursor = collection['mydocument'].find({\"ASIN\": \"0307463745\"})\n",
    "dataframe = (list(cursor))\n",
    "dataframe "
   ]
  },
  {
   "cell_type": "code",
   "execution_count": 8,
   "id": "50a3e3dd-1f67-455f-a3b2-b7751cec0501",
   "metadata": {},
   "outputs": [
    {
     "data": {
      "text/plain": [
       "[]"
      ]
     },
     "execution_count": 8,
     "metadata": {},
     "output_type": "execute_result"
    }
   ],
   "source": [
    "#вставка одного\n",
    "import pandas as pd\n",
    "import json\n",
    "import pymongo\n",
    "client = MongoClient('localhost',27017)\n",
    "\n",
    "db = client.test\n",
    "client['test']\n",
    "collection = db.test\n",
    "\n",
    "\n",
    "collection['mydocument'].insert_one({\"ASIN\": \"0307463751\", \"GROUP\": \"book\", \"FORMAT\": \"hardcover\"})\n",
    "cursor = collection['mydocument'].find({\"uniq_id\": \"0307463751\"})\n",
    "dataframe = (list(cursor))\n",
    "dataframe"
   ]
  },
  {
   "cell_type": "code",
   "execution_count": 1,
   "id": "8174258d-a470-4509-afaf-451036af0d37",
   "metadata": {},
   "outputs": [
    {
     "ename": "NameError",
     "evalue": "name 'MongoClient' is not defined",
     "output_type": "error",
     "traceback": [
      "\u001b[1;31m---------------------------------------------------------------------------\u001b[0m",
      "\u001b[1;31mNameError\u001b[0m                                 Traceback (most recent call last)",
      "\u001b[1;32m<ipython-input-1-ce244866acff>\u001b[0m in \u001b[0;36m<module>\u001b[1;34m\u001b[0m\n\u001b[0;32m      3\u001b[0m \u001b[1;32mimport\u001b[0m \u001b[0mjson\u001b[0m\u001b[1;33m\u001b[0m\u001b[0m\n\u001b[0;32m      4\u001b[0m \u001b[1;32mimport\u001b[0m \u001b[0mpymongo\u001b[0m\u001b[1;33m\u001b[0m\u001b[0m\n\u001b[1;32m----> 5\u001b[1;33m \u001b[0mclient\u001b[0m \u001b[1;33m=\u001b[0m \u001b[0mMongoClient\u001b[0m\u001b[1;33m(\u001b[0m\u001b[1;34m'localhost'\u001b[0m\u001b[1;33m,\u001b[0m\u001b[1;36m27017\u001b[0m\u001b[1;33m)\u001b[0m\u001b[1;33m\u001b[0m\u001b[0m\n\u001b[0m\u001b[0;32m      6\u001b[0m \u001b[1;33m\u001b[0m\u001b[0m\n\u001b[0;32m      7\u001b[0m \u001b[0mdb\u001b[0m \u001b[1;33m=\u001b[0m \u001b[0mclient\u001b[0m\u001b[1;33m.\u001b[0m\u001b[0mtest\u001b[0m\u001b[1;33m\u001b[0m\u001b[0m\n",
      "\u001b[1;31mNameError\u001b[0m: name 'MongoClient' is not defined"
     ]
    }
   ],
   "source": [
    "#поиск несколько по критерию\n",
    "import pandas as pd\n",
    "import json\n",
    "import pymongo\n",
    "client = MongoClient('localhost',27017)\n",
    "\n",
    "db = client.test\n",
    "client['test']\n",
    "collection = db.test\n",
    "\n",
    "cursor = collection['mydocument'].find({\"GROUP\": \"book\",})\n",
    "dataframe = (list(cursor))\n",
    "dataframe"
   ]
  },
  {
   "cell_type": "code",
   "execution_count": 15,
   "id": "f31ab765-a2e1-4883-bda3-628f5758479e",
   "metadata": {},
   "outputs": [
    {
     "data": {
      "text/plain": [
       "[]"
      ]
     },
     "execution_count": 15,
     "metadata": {},
     "output_type": "execute_result"
    }
   ],
   "source": [
    "#удаление\n",
    "import pandas as pd\n",
    "import json\n",
    "import pymongo\n",
    "from pymongo import MongoClient\n",
    "client = MongoClient('localhost',27017)\n",
    "\n",
    "db = client.test\n",
    "client['test']\n",
    "collection = db.test\n",
    "\n",
    "\n",
    "collection['mydocument'].delete_one({\"ASIN\": \"0307463745\"})\n",
    "collection['mydocument'].find({\"ASIN\": \"0307463745\"})\n",
    "dataframe = (list(cursor))\n",
    "dataframe"
   ]
  },
  {
   "cell_type": "code",
   "execution_count": 16,
   "id": "d8425fc3-08ac-45b7-aaf1-b845f0b8af52",
   "metadata": {},
   "outputs": [
    {
     "data": {
      "text/plain": [
       "[]"
      ]
     },
     "execution_count": 16,
     "metadata": {},
     "output_type": "execute_result"
    }
   ],
   "source": [
    "#удаление всего по критерию\n",
    "import pandas as pd\n",
    "import json\n",
    "import pymongo\n",
    "client = MongoClient('localhost',27017)\n",
    "\n",
    "db = client.test\n",
    "client['test']\n",
    "collection = db.test\n",
    "\n",
    "collection['mydocument'].delete_many({\"FORMAT\": \"hardcover\"})\n",
    "cursor = collection['mydocument'].find({\"FORMAT\": \"hardcover\"})\n",
    "dataframe = (list(cursor))\n",
    "dataframe"
   ]
  },
  {
   "cell_type": "code",
   "execution_count": 19,
   "id": "ad077461-6090-4525-84ab-5e63c7c42d60",
   "metadata": {},
   "outputs": [
    {
     "data": {
      "text/plain": [
       "<pymongo.results.InsertManyResult at 0x1919393ccc8>"
      ]
     },
     "execution_count": 19,
     "metadata": {},
     "output_type": "execute_result"
    }
   ],
   "source": [
    "#вставка много\n",
    "import pandas as pd\n",
    "import json\n",
    "import pymongo\n",
    "client = MongoClient('localhost',27017)\n",
    "\n",
    "db = client.test\n",
    "client['test']\n",
    "collection = db.test\n",
    "\n",
    "mylist =[\n",
    "    {\"ASIN\": \"0307463311\", \"GROUP\": \"book\", \"FORMAT\": \"paperback\"}, \n",
    "    {\"ASIN\": \"0307467723\", \"GROUP\": \"book\", \"FORMAT\": \"mass market paperback\"},\n",
    "]\n",
    "collection['mydocument'].insert_many(mylist)\n"
   ]
  },
  {
   "cell_type": "code",
   "execution_count": 21,
   "id": "2fb51299-a5a8-4a03-b2e9-ace0e94261ff",
   "metadata": {},
   "outputs": [
    {
     "data": {
      "text/plain": [
       "[]"
      ]
     },
     "execution_count": 21,
     "metadata": {},
     "output_type": "execute_result"
    }
   ],
   "source": [
    "#изменение\n",
    "import pandas as pd\n",
    "import json\n",
    "import pymongo\n",
    "from pymongo import MongoClient\n",
    "client = MongoClient('localhost',27017)\n",
    "\n",
    "db = client.test\n",
    "client['test']\n",
    "collection = db.test\n",
    "\n",
    "collection['mydocument'].update_many({'ASIN': '0307463745'},{\"$set\":{'FORMAT': 'paperback'}})\n",
    "cursor = collection['mydocument'].find({'ASIN': '0307463745'})\n",
    "dataframe = (list(cursor))\n",
    "dataframe"
   ]
  },
  {
   "cell_type": "code",
   "execution_count": 22,
   "id": "c157894f-b3e8-40ab-9982-152092ecda8c",
   "metadata": {},
   "outputs": [
    {
     "data": {
      "text/plain": [
       "[]"
      ]
     },
     "execution_count": 22,
     "metadata": {},
     "output_type": "execute_result"
    }
   ],
   "source": [
    "#проверка для удалений\n",
    "import pandas as pd\n",
    "import json\n",
    "import pymongo\n",
    "from pymongo import MongoClient\n",
    "client = MongoClient('localhost',27017)\n",
    "\n",
    "db = client.test\n",
    "client['test']\n",
    "collection = db.test\n",
    "\n",
    "cursor = collection['mydocument'].find({\"FORMAT\": \"hardcover\"})\n",
    "dataframe = (list(cursor))\n",
    "dataframe"
   ]
  },
  {
   "cell_type": "code",
   "execution_count": null,
   "id": "9e95dcef-ad26-4df7-b0b2-2d9a7a68253d",
   "metadata": {},
   "outputs": [],
   "source": []
  }
 ],
 "metadata": {
  "kernelspec": {
   "display_name": "Python 3",
   "language": "python",
   "name": "python3"
  },
  "language_info": {
   "codemirror_mode": {
    "name": "ipython",
    "version": 3
   },
   "file_extension": ".py",
   "mimetype": "text/x-python",
   "name": "python",
   "nbconvert_exporter": "python",
   "pygments_lexer": "ipython3",
   "version": "3.6.5"
  }
 },
 "nbformat": 4,
 "nbformat_minor": 5
}
