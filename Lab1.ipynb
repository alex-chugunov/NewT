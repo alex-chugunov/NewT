{
  "nbformat": 4,
  "nbformat_minor": 0,
  "metadata": {
    "colab": {
      "name": "Lab1.ipynb",
      "provenance": [],
      "collapsed_sections": []
    },
    "kernelspec": {
      "name": "python3",
      "display_name": "Python 3"
    },
    "language_info": {
      "name": "python"
    }
  },
  "cells": [
    {
      "cell_type": "code",
      "metadata": {
        "id": "MsaI05gJRupC",
        "colab": {
          "base_uri": "https://localhost:8080/"
        },
        "outputId": "1160ff75-f50a-4a9b-9bd8-b6546928a060"
      },
      "source": [
        "import pandas as pd\n",
        "import numpy as np\n",
        "import matplotlib.pyplot as plt\n",
        "import seaborn as sns\n",
        "import re\n",
        "import datetime as dt\n",
        "\n",
        "\n",
        "#pd.set_option('display.max_columns', None)\n",
        "\n",
        "data = pd.read_csv(\"ufo_sighting_data.csv\")\n",
        "print(data.head(10))"
      ],
      "execution_count": 36,
      "outputs": [
        {
          "output_type": "stream",
          "name": "stdout",
          "text": [
            "          Date_time                  city  ...    latitude   longitude\n",
            "0  10/10/1949 20:30            san marcos  ...  29.8830556  -97.941111\n",
            "1  10/10/1949 21:00          lackland afb  ...    29.38421  -98.581082\n",
            "2  10/10/1955 17:00  chester (uk/england)  ...        53.2   -2.916667\n",
            "3  10/10/1956 21:00                  edna  ...  28.9783333  -96.645833\n",
            "4  10/10/1960 20:00               kaneohe  ...  21.4180556 -157.803611\n",
            "5  10/10/1961 19:00               bristol  ...      36.595  -82.188889\n",
            "6  10/10/1965 21:00    penarth (uk/wales)  ...   51.434722   -3.180000\n",
            "7  10/10/1965 23:45               norwalk  ...     41.1175  -73.408333\n",
            "8  10/10/1966 20:00             pell city  ...  33.5861111  -86.286111\n",
            "9  10/10/1966 21:00              live oak  ...  30.2947222  -82.984167\n",
            "\n",
            "[10 rows x 11 columns]\n"
          ]
        },
        {
          "output_type": "stream",
          "name": "stderr",
          "text": [
            "/usr/local/lib/python3.7/dist-packages/IPython/core/interactiveshell.py:2718: DtypeWarning: Columns (5,9) have mixed types.Specify dtype option on import or set low_memory=False.\n",
            "  interactivity=interactivity, compiler=compiler, result=result)\n"
          ]
        }
      ]
    },
    {
      "cell_type": "code",
      "metadata": {
        "id": "D3g2-q8tVsdc"
      },
      "source": [
        "print(\"количество строк: \" + str(len(data.index)))\n",
        "print(\"количество столбцов: \" + str(len(data.columns))) \n",
        "datatypes = data.dtypes\n",
        "i = 1 \n",
        "for dtype in datatypes: \n",
        "  print(\"Номер столбца: \" + str(i) + \"   Тип данных: \" + str(dtype))\n",
        "  i = i + 1"
      ],
      "execution_count": null,
      "outputs": []
    },
    {
      "cell_type": "code",
      "metadata": {
        "id": "AVzDW2qJYnji"
      },
      "source": [
        "print(\"Средняя долгота: \" + str(data[\"longitude\"].mean()))\n",
        "print(\"Максимальная долгота: \" + str(data[\"longitude\"].max()))\n",
        "print(\"Минимальная долгота: \" + str(data[\"longitude\"].min()))"
      ],
      "execution_count": null,
      "outputs": []
    },
    {
      "cell_type": "code",
      "metadata": {
        "id": "V1A52e9neLds"
      },
      "source": [
        "data[\"Date_time\"] = data[\"Date_time\"].str.replace(\"24:\", \"00:\")\n",
        "data[\"Date_time\"] = pd.to_datetime(data[\"Date_time\"])\n",
        "data[\"Year\"] = data[\"Date_time\"].dt.year\n",
        "print(data[\"Year\"].head())"
      ],
      "execution_count": null,
      "outputs": []
    },
    {
      "cell_type": "code",
      "metadata": {
        "id": "bz8wII3Q6Tob"
      },
      "source": [
        "New_row = {\"Date_time\": \"29/9/2021 23:00\", \"state/province\": \"tx\", \"country\": \"us\"}\n",
        "data = data.append(New_row, ignore_index=True)\n",
        "print(data.tail())"
      ],
      "execution_count": null,
      "outputs": []
    },
    {
      "cell_type": "code",
      "metadata": {
        "colab": {
          "base_uri": "https://localhost:8080/"
        },
        "id": "N2WiLLoEuJ6H",
        "cellView": "code",
        "outputId": "ebd130ee-0b63-462c-fb79-e54a435ac128"
      },
      "source": [
        "# вариант 8, задача 1\n",
        "data = pd.read_csv(\"ufo_sighting_data.csv\")\n",
        "data[\"Date_time\"] = data[\"Date_time\"].str.replace(\"24:\", \"00:\")\n",
        "data[\"Date_time\"] = pd.to_datetime(data[\"Date_time\"])\n",
        "data[\"Hours\"] = data[\"Date_time\"].dt.hour\n",
        "#print(data[\"Date_time\"].head())\n",
        "df = pd.DataFrame(data) # преобразование, у вас изначально DataFrame после чтения\n",
        "#col_one_list = df['Date_time'].tolist() # читаем и преобразуем в list\n",
        "col_one_arr = df['Hours'].to_numpy()# читаем и преобразуем в массив numpy\n",
        "print(col_one_arr)\n",
        "for i in range(30):\n",
        "  if col_one_arr[i] > 18 and col_one_arr[i] <= 23:\n",
        "    print(\"evening\")\n",
        "  if col_one_arr[i] > 12 and col_one_arr[i] <= 18:\n",
        "    print(\"day\")\n",
        "  if col_one_arr[i] > 6 and col_one_arr[i] <= 12:\n",
        "    print(\"morning\")\n",
        "  if col_one_arr[i] > 0 and col_one_arr[i] <= 6:\n",
        "    print(\"night\")\n",
        "\n",
        "# задача 2 Перед запуском нужно запустить еще раз задачу с годом\n",
        "#print(data[\"Year\"].value_counts())\n",
        "#print(data[\"country\"].value_counts())"
      ],
      "execution_count": 35,
      "outputs": [
        {
          "output_type": "stream",
          "name": "stderr",
          "text": [
            "/usr/local/lib/python3.7/dist-packages/IPython/core/interactiveshell.py:2718: DtypeWarning: Columns (5,9) have mixed types.Specify dtype option on import or set low_memory=False.\n",
            "  interactivity=interactivity, compiler=compiler, result=result)\n"
          ]
        },
        {
          "output_type": "stream",
          "name": "stdout",
          "text": [
            "[20 21 17 ... 22 22 23]\n",
            "evening\n",
            "evening\n",
            "day\n",
            "evening\n",
            "evening\n",
            "evening\n",
            "evening\n",
            "evening\n",
            "evening\n",
            "evening\n",
            "day\n",
            "evening\n",
            "day\n",
            "evening\n",
            "evening\n",
            "evening\n",
            "evening\n",
            "evening\n",
            "evening\n",
            "evening\n",
            "evening\n",
            "evening\n",
            "day\n",
            "evening\n",
            "evening\n",
            "morning\n",
            "evening\n",
            "night\n",
            "evening\n"
          ]
        }
      ]
    }
  ]
}